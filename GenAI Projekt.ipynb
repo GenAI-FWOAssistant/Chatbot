{
 "cells": [
  {
   "cell_type": "markdown",
   "metadata": {
    "cell_id": "13645a6401094b8e9e43ee6439cebbb7",
    "deepnote_cell_type": "markdown"
   },
   "source": []
  },
  {
   "cell_type": "markdown",
   "metadata": {
    "cell_id": "2e08b85981b542379983caf1619bceab",
    "deepnote_cell_type": "markdown"
   },
   "source": [
    "### Ideen Use Case\n",
    "- Gesetzbuch ZGB\n",
    "- Kochbuch\n",
    "- LLM Agent generiert Werbetexe, Social Media Posts"
   ]
  },
  {
   "cell_type": "markdown",
   "metadata": {
    "cell_id": "71dc5b3cd80f444c85229c5a5d134243",
    "deepnote_cell_type": "text-cell-h3",
    "formattedRanges": []
   },
   "source": [
    "### FWO-Assistent"
   ]
  },
  {
   "cell_type": "markdown",
   "metadata": {
    "cell_id": "8e372a10361b49d79135bb1ac2bc94e8",
    "deepnote_cell_type": "text-cell-bullet",
    "formattedRanges": []
   },
   "source": [
    "- Hilft bei der Erstellung von Texten für LinkedIn, Instagram, WhatsApp etc."
   ]
  },
  {
   "cell_type": "markdown",
   "metadata": {
    "cell_id": "34e39c6b71ff43369582549ea792d7a4",
    "deepnote_cell_type": "text-cell-bullet",
    "formattedRanges": []
   },
   "source": [
    "- Auf Basis von vergangenen Posts"
   ]
  },
  {
   "cell_type": "code",
   "execution_count": 1,
   "metadata": {},
   "outputs": [
    {
     "name": "stderr",
     "output_type": "stream",
     "text": [
      "c:\\Users\\amuel\\AppData\\Local\\Programs\\Python\\Python313\\Lib\\site-packages\\tqdm\\auto.py:21: TqdmWarning: IProgress not found. Please update jupyter and ipywidgets. See https://ipywidgets.readthedocs.io/en/stable/user_install.html\n",
      "  from .autonotebook import tqdm as notebook_tqdm\n"
     ]
    },
    {
     "name": "stdout",
     "output_type": "stream",
     "text": [
      "Sende Test-Ping...\n",
      "Antworttyp: <class 'langchain_core.messages.ai.AIMessage'>\n",
      "Inhalt: pong\n"
     ]
    }
   ],
   "source": [
    "import os\n",
    "from langchain_openai import ChatOpenAI\n",
    "\n",
    "# --- Stelle sicher, dass dieser Key existiert ---\n",
    "assert \"GROQ_API_KEY\" in os.environ, \"GROQ_API_KEY fehlt in den Env Vars!\"\n",
    "\n",
    "# --- Initialisiere LLM explizit für OpenRouter ---\n",
    "llm = ChatOpenAI(\n",
    "    model=\"openai/gpt-oss-120b\",   # wähle ein OpenRouter-Modell, das es wirklich gibt\n",
    "    api_key=os.environ[\"GROQ_API_KEY\"],\n",
    "    base_url=\"https://api.groq.com/openai/v1\",\n",
    "    temperature=0.3,\n",
    ")\n",
    "\n",
    "print(\"Sende Test-Ping...\")\n",
    "try:\n",
    "    msg = llm.invoke(\"Sag exakt: pong\")\n",
    "    print(\"Antworttyp:\", type(msg))\n",
    "    # msg ist i.d.R. ein AIMessage – gib Inhalt sicher aus:\n",
    "    print(\"Inhalt:\", getattr(msg, \"content\", msg))\n",
    "except Exception as e:\n",
    "    print(\"FEHLER beim LLM-Aufruf:\", repr(e))\n"
   ]
  },
  {
   "cell_type": "code",
   "execution_count": 2,
   "metadata": {
    "cell_id": "48703dda10da4a189aae9e8b27d1da51",
    "deepnote_cell_type": "code",
    "execution_context_id": "117fea94-7943-4067-9a2a-3e8454f791c1",
    "execution_millis": 1312,
    "execution_start": 1759758229079,
    "source_hash": "af9e9b5a"
   },
   "outputs": [],
   "source": [
    "import os\n",
    "import langchain\n",
    "from dotenv import load_dotenv\n",
    "load_dotenv()\n",
    "\n",
    "from langchain_openai import ChatOpenAI\n",
    "\n",
    "\n",
    "#LLM_MODEL = \"openai/gpt-oss-20b:free\"\n",
    "LLM_MODEL = \"openai/gpt-oss-120b\"\n",
    "LLM_TEMPERATURE = 0.4\n",
    "BASE_URL = \"https://api.groq.com/openai/v1\"\n",
    "OPENROUTER_API_KEY = os.getenv(\"GROQ_API_KEY\")\n",
    "USER_PROMPT=\"Generiere mir einen Instagrampost\""
   ]
  },
  {
   "cell_type": "code",
   "execution_count": 3,
   "metadata": {
    "cell_id": "560a2f48c30445d0af462bee57df506a",
    "deepnote_cell_type": "code",
    "execution_context_id": "117fea94-7943-4067-9a2a-3e8454f791c1",
    "execution_millis": 2680,
    "execution_start": 1759758230441,
    "source_hash": "b9f7f98b"
   },
   "outputs": [
    {
     "name": "stdout",
     "output_type": "stream",
     "text": [
      "<class 'langchain_openai.chat_models.base.ChatOpenAI'>\n"
     ]
    }
   ],
   "source": [
    "from langchain_openai import ChatOpenAI\n",
    "from langchain_core.prompts import ChatPromptTemplate\n",
    "\n",
    "\n",
    "llm = ChatOpenAI(\n",
    "    model=LLM_MODEL,\n",
    "    temperature=LLM_TEMPERATURE,\n",
    "    base_url=BASE_URL,\n",
    "    api_key=OPENROUTER_API_KEY,\n",
    ")\n",
    "\n",
    "print(type(llm))\n"
   ]
  },
  {
   "cell_type": "code",
   "execution_count": 4,
   "metadata": {},
   "outputs": [
    {
     "name": "stdout",
     "output_type": "stream",
     "text": [
      "pong\n",
      "False None\n",
      "True\n",
      "False\n"
     ]
    }
   ],
   "source": [
    "try:\n",
    "    print(llm.invoke(\"Sag nur: pong\").content)\n",
    "except Exception as e:\n",
    "    print(repr(e))\n",
    "\n",
    "# Test 2: Env-Variablen sichtbar?\n",
    "import os\n",
    "print(\"OPENAI_API_KEY\" in os.environ, os.environ.get(\"OPENAI_BASE_URL\"))\n",
    "print(\"GROQ_API_KEY\" in os.environ)\n",
    "print(\"OPENROUTER_API_KEY\" in os.environ)"
   ]
  },
  {
   "cell_type": "code",
   "execution_count": 5,
   "metadata": {
    "cell_id": "a39ea2f0cef040f4bc860ac3c41a6a4d",
    "deepnote_cell_type": "code",
    "execution_context_id": "117fea94-7943-4067-9a2a-3e8454f791c1",
    "execution_millis": 0,
    "execution_start": 1759758233169,
    "source_hash": "90dbf177"
   },
   "outputs": [],
   "source": [
    "from langchain_core.prompts import ChatPromptTemplate\n",
    "\n",
    "FWO_PROMPT = ChatPromptTemplate.from_messages([\n",
    "    (\"system\",\n",
    "     \"Du bist der FWO-Assistent (Fachschaft Wirtschaft Olten, FHNW). \"\n",
    "     \"Bevor du schreibst, beziehst du dich IMMER auf: \"\n",
    "     \"1) Kampagnenkonzept (Ziel, Kernbotschaft, Mehrwert) \"\n",
    "     \"2) Redaktionsplan (Phase, wiederkehrende Formate, Timing). \"\n",
    "     \"Vermeide Genderung und gebrauche bspw. Lehrperson anstatt Lehrer*innen \"\n",
    "     \"Generiere jeweils immer zwei Vorschläge zu jeder Plattform (Instagram, WhatsApp, LinkedIn)\"\n",
    "     \"Vermeide Floskeln, schreibe aktiv und konkret.\"\n",
    "     \"If you are unsure or the answer isn't in the context, say that you don't know.\\n\\n\"\n",
    "     \"CONTEXT: \\n {context}\"\n",
    "    ),\n",
    "    (\"human\",\"{question}\"),\n",
    "])\n"
   ]
  },
  {
   "cell_type": "code",
   "execution_count": 6,
   "metadata": {
    "cell_id": "6b201c73c9d040e9af1c979816ae55dd",
    "deepnote_cell_type": "code",
    "execution_context_id": "117fea94-7943-4067-9a2a-3e8454f791c1",
    "execution_millis": 12311,
    "execution_start": 1759758233279,
    "source_hash": "51d1e9bd"
   },
   "outputs": [],
   "source": [
    "# from langchain_core.output_parsers import StrOutputParser\n",
    "\n",
    "# user_prompt = \"Generiere mir einen Post für die PubTour am 16. Oktober\"\n",
    "\n",
    "# chain_simple = (FWO_PROMPT | llm | StrOutputParser())\n",
    "# result = chain_simple.invoke({\"question\": user_prompt, \"context\": \"\"})\n",
    "# print(result)\n",
    "# print(result)"
   ]
  },
  {
   "cell_type": "code",
   "execution_count": null,
   "metadata": {},
   "outputs": [],
   "source": []
  },
  {
   "cell_type": "code",
   "execution_count": 7,
   "metadata": {
    "cell_id": "2f723a65eeb04432a1ba77dcfe049109",
    "deepnote_cell_type": "code",
    "execution_context_id": "117fea94-7943-4067-9a2a-3e8454f791c1",
    "execution_millis": 483,
    "execution_start": 1759758245649,
    "source_hash": "3195d87f"
   },
   "outputs": [],
   "source": [
    "from langchain_community.document_loaders import PyPDFLoader\n",
    "\n",
    "# List of PDF file paths\n",
    "\n",
    "pdf_path = \"Order pdf/SoMe Konzept.pdf\"\n",
    "\n",
    "loader = PyPDFLoader(str(pdf_path))\n",
    "pages = loader.load()\n",
    "\n",
    "\n",
    "# Load all documents\n",
    "# all_pages_pdf = []\n",
    "# for pdf in pdf_files:\n",
    "#     loader = PyPDFLoader(pdf)\n",
    "#     pages = loader.load()\n",
    "#     all_pages_pdf.extend(pages)\n",
    "\n",
    "#print(f\"Loaded {len(all_pages_pdf)} pages from {len(pdf_files)} pdf documents.\")\n"
   ]
  },
  {
   "cell_type": "code",
   "execution_count": 8,
   "metadata": {
    "cell_id": "a4a0f6c0e3844ca2a7e68192889aadf3",
    "deepnote_cell_type": "code",
    "execution_context_id": "117fea94-7943-4067-9a2a-3e8454f791c1",
    "execution_millis": 0,
    "execution_start": 1759758246179,
    "source_hash": "600011ae"
   },
   "outputs": [],
   "source": [
    "from langchain_text_splitters import RecursiveCharacterTextSplitter\n",
    "\n",
    "# get both websites and pdfs together\n",
    "all_docs = pages\n",
    "\n",
    "# define the splitter and strategy\n",
    "splitter = RecursiveCharacterTextSplitter(chunk_size=300, chunk_overlap=100)\n",
    "splits = splitter.split_documents(all_docs)"
   ]
  },
  {
   "cell_type": "code",
   "execution_count": 9,
   "metadata": {
    "cell_id": "c2e805c3427c4dcda39006a9105b2777",
    "deepnote_cell_type": "code",
    "execution_context_id": "117fea94-7943-4067-9a2a-3e8454f791c1",
    "execution_millis": 0,
    "execution_start": 1759758246229,
    "source_hash": "b0d5d671"
   },
   "outputs": [
    {
     "name": "stdout",
     "output_type": "stream",
     "text": [
      "Initial documents: 6\n",
      "Total chunks: 55\n",
      "Avg length: 253.0\n",
      "Min: 48, Max: 297\n"
     ]
    }
   ],
   "source": [
    "import numpy as np\n",
    "\n",
    "lengths = [len(s.page_content) for s in splits]\n",
    "print(f\"Initial documents: {len(all_docs)}\")\n",
    "print(f\"Total chunks: {len(splits)}\")\n",
    "print(f\"Avg length: {np.mean(lengths):.1f}\")\n",
    "print(f\"Min: {np.min(lengths)}, Max: {np.max(lengths)}\")"
   ]
  },
  {
   "cell_type": "code",
   "execution_count": 10,
   "metadata": {
    "cell_id": "92e542040e284e96b3a342fcf5c63bc2",
    "deepnote_cell_type": "code",
    "execution_context_id": "117fea94-7943-4067-9a2a-3e8454f791c1",
    "execution_millis": 18668,
    "execution_start": 1759758246289,
    "source_hash": "cc8d3bbc"
   },
   "outputs": [
    {
     "name": "stderr",
     "output_type": "stream",
     "text": [
      "C:\\Users\\amuel\\AppData\\Local\\Temp\\ipykernel_32352\\4293025327.py:4: LangChainDeprecationWarning: The class `HuggingFaceEmbeddings` was deprecated in LangChain 0.2.2 and will be removed in 1.0. An updated version of the class exists in the :class:`~langchain-huggingface package and should be used instead. To use it run `pip install -U :class:`~langchain-huggingface` and import as `from :class:`~langchain_huggingface import HuggingFaceEmbeddings``.\n",
      "  embeddings = HuggingFaceEmbeddings(model_name=\"sentence-transformers/all-mpnet-base-v2\")\n"
     ]
    }
   ],
   "source": [
    "from langchain_community.embeddings import HuggingFaceEmbeddings\n",
    "from sentence_transformers import SentenceTransformer\n",
    "\n",
    "embeddings = HuggingFaceEmbeddings(model_name=\"sentence-transformers/all-mpnet-base-v2\")\n"
   ]
  },
  {
   "cell_type": "code",
   "execution_count": 11,
   "metadata": {
    "cell_id": "276a8ec04dfa486a8eb26443f9c1b7f0",
    "deepnote_cell_type": "code",
    "execution_context_id": "117fea94-7943-4067-9a2a-3e8454f791c1",
    "execution_millis": 11559,
    "execution_start": 1759758265010,
    "source_hash": "65dc8a79"
   },
   "outputs": [
    {
     "data": {
      "text/plain": [
       "['988961e2-6963-4128-8fe8-999f5bf73b7c',\n",
       " 'a5bad737-7356-4bdc-b75e-f1ffcc4ddd14',\n",
       " 'f98edf45-659b-4594-8e8d-ba32bf1ca2c6',\n",
       " '06baf2a6-408d-41fc-8a5d-bdbdabfb3103',\n",
       " 'e9043688-d455-408f-98e6-081168d2e18f',\n",
       " 'c86f75ec-fbac-49f0-b1c6-b4025931d3fd',\n",
       " '3d55c071-1f26-4d07-84b0-9368024a4ffd',\n",
       " 'e12b8f0d-8c8b-4ff4-9394-cef7e381714d',\n",
       " '2e68145a-a6ae-4cc7-b848-c06bc2f9ea38',\n",
       " '69897cd9-3352-44f9-9a72-b53d1b5ef051',\n",
       " '2ccafeec-23fe-4144-b866-c37fe4c76beb',\n",
       " '8d477633-c8e1-4752-9118-5eb64c2110f0',\n",
       " '2ed72c8c-7db5-4779-8543-57f89791b04e',\n",
       " 'a3c08db1-8065-4d4e-8711-f96f61250ee3',\n",
       " '97bebff9-a426-4a29-839a-a5bcd7a776eb',\n",
       " '518d8fa9-285d-4a99-857c-c5e47dfb429d',\n",
       " 'ec9fcd31-0de5-4b17-94aa-d77af86cf641',\n",
       " 'c14f10bb-f2d5-488f-af93-4c826b2d5a05',\n",
       " 'e8ddcdb8-1e69-450e-a0e4-9352784842a3',\n",
       " '77d1366b-20ce-4306-8e7e-dfe217d8093b',\n",
       " 'b180ec81-96ae-4378-9e1c-0a6970298ff4',\n",
       " '1ebd97fa-9a79-4246-99ee-7f661e853c27',\n",
       " 'c80523c8-cfba-4880-927b-87346b03a126',\n",
       " '6fce9dc2-fa12-49c6-bad8-e4d06769fd03',\n",
       " '1da4b3be-dfc0-4fcf-8701-64a57f428f93',\n",
       " 'a9aac1b2-5ed4-4c77-896f-e3601a4c5064',\n",
       " '8d13942b-0ac8-43ed-97ca-71be2c2e46c2',\n",
       " 'e2cc9751-ed38-4ba5-9c06-17347b8585dc',\n",
       " 'abf4a901-1660-4528-9e2b-683ac20a4e0c',\n",
       " '0d3812c5-87b9-49b3-be68-6d17b6898ffc',\n",
       " '9f42369b-5525-4726-b1d3-52d9fbec3c90',\n",
       " 'a9499109-f9e9-4d34-a414-5c2b156ae38f',\n",
       " '8a72728f-d8bc-4205-9ff6-296c4777a60d',\n",
       " 'd9d869ac-d275-4d4c-bbf1-0ac22fab25e3',\n",
       " 'f558392d-502e-48dd-a919-0084a0dc426f',\n",
       " '2fe49f19-4c95-4311-9019-be26ff7ba8c5',\n",
       " '53a6a00f-78e8-4506-ba09-9de0cd203dec',\n",
       " 'a4fc201c-0332-4c4c-b620-3b3e3255c9a8',\n",
       " 'db0a9d21-a8fd-4d4b-93aa-6e3a873c7c1c',\n",
       " '7602230a-cb0f-4068-88a8-2cc21ba073e1',\n",
       " '6dd6c2ef-1aa1-46cb-ace1-bac17cf961c0',\n",
       " '4a8dbe48-99ad-481a-b4a9-c078cdeecfdc',\n",
       " 'a0226924-8032-4b8b-be39-5384811b062e',\n",
       " '3dfac800-1752-4c58-b072-4267b304f3d4',\n",
       " 'ba382ad1-49c7-4566-ab10-73da3db32260',\n",
       " '2a3132e1-c133-4a80-bc75-7d3a3476ff67',\n",
       " '4d2c30c7-72cf-4a39-8d06-3cf3acd9d443',\n",
       " 'bc52c532-3a7a-4ecc-9285-39dda8fe3f03',\n",
       " '9b0a4cab-8985-4357-9fbe-68d263a472ca',\n",
       " '43506b9d-672d-43b1-a6d2-1e5a44814878',\n",
       " '49ebe806-ae28-4c60-b0d6-e5b1ca708183',\n",
       " '82fd5a72-2516-4777-937c-40e61893a095',\n",
       " '0631593a-d36a-422d-a0a7-41e15e4bd555',\n",
       " 'd3d8b7b5-7ae1-4893-ba02-05c9dfd00b54',\n",
       " '56ffef1c-a4be-4551-9e0f-7698c7b28d79']"
      ]
     },
     "execution_count": 11,
     "metadata": {},
     "output_type": "execute_result"
    }
   ],
   "source": [
    "import faiss\n",
    "from langchain_community.docstore.in_memory import InMemoryDocstore\n",
    "from langchain_community.vectorstores import FAISS\n",
    "\n",
    "embedding_dim = len(embeddings.embed_query(\"hello world\"))\n",
    "index = faiss.IndexFlatL2(embedding_dim)\n",
    "\n",
    "vector_store = FAISS(\n",
    "    embedding_function=embeddings,\n",
    "    index=index,\n",
    "    docstore=InMemoryDocstore(),\n",
    "    index_to_docstore_id={},\n",
    "    normalize_L2=True\n",
    ")\n",
    "\n",
    "vector_store.add_documents(documents=splits)"
   ]
  },
  {
   "cell_type": "code",
   "execution_count": 12,
   "metadata": {
    "cell_id": "39c71595501b4099b86a137eecf48618",
    "deepnote_cell_type": "code",
    "execution_context_id": "117fea94-7943-4067-9a2a-3e8454f791c1",
    "execution_millis": 0,
    "execution_start": 1759758276629,
    "source_hash": "2ca0bc3c"
   },
   "outputs": [],
   "source": [
    "retriever = vector_store.as_retriever(search_type=\"similarity\", search_kwargs={\"k\": 3})"
   ]
  },
  {
   "cell_type": "code",
   "execution_count": 13,
   "metadata": {
    "cell_id": "dca3c25d995f4dcaa99e9e38d24247c9",
    "deepnote_cell_type": "code",
    "execution_context_id": "117fea94-7943-4067-9a2a-3e8454f791c1",
    "execution_millis": 1,
    "execution_start": 1759758276689,
    "source_hash": "aa4529ad"
   },
   "outputs": [
    {
     "name": "stdout",
     "output_type": "stream",
     "text": [
      "--- Retrieved doc 1 ---\n",
      "- Grund: Account aktiv halten vor allem in Zeiten, bei denen weniger Posts gemacht \n",
      "werden können. \n",
      "Hashtags: \n",
      "#FHNW #FWO #FachschaftWirtschaftOlten #HappyEaster #HappyChristmas #HappyXmas und \n",
      "Spezifische Hashtags die von Partnern vorgegeben werden. \n",
      "Standard Seeding: ...\n",
      "\n",
      "--- Retrieved doc 2 ---\n",
      "Hashtags: Keine Hashtags \n",
      "Seeding: kein Seeding. ...\n",
      "\n",
      "--- Retrieved doc 3 ---\n",
      "Die meisten Jugendlichen/jungen Erwachsene sind auf Instagram aktiv. Das Posten von Events \n",
      "auf diesem Kanal ermöglicht der FWO ein gutes und interessantes Image für die FHNW in Olten \n",
      "zu erschaffen und somit zukünftige Studierende zu „überzeugen“ an der FH in Olten studieren zu ...\n",
      "\n"
     ]
    },
    {
     "name": "stderr",
     "output_type": "stream",
     "text": [
      "C:\\Users\\amuel\\AppData\\Local\\Temp\\ipykernel_32352\\3188004710.py:1: LangChainDeprecationWarning: The method `BaseRetriever.get_relevant_documents` was deprecated in langchain-core 0.1.46 and will be removed in 1.0. Use :meth:`~invoke` instead.\n",
      "  docs = retriever.get_relevant_documents(\"Hashtags für Instagram\")\n"
     ]
    }
   ],
   "source": [
    "docs = retriever.get_relevant_documents(\"Hashtags für Instagram\")\n",
    "for i, d in enumerate(docs, 1):\n",
    "    print(f\"--- Retrieved doc {i} ---\")\n",
    "    print(d.page_content[:400], \"...\\n\")"
   ]
  },
  {
   "cell_type": "code",
   "execution_count": 14,
   "metadata": {
    "cell_id": "7628494db79b4133966fb98d4c707ab8",
    "deepnote_cell_type": "code"
   },
   "outputs": [],
   "source": [
    "from langchain_core.runnables import RunnablePassthrough\n",
    "from langchain_core.output_parsers import StrOutputParser\n",
    "output_parser = StrOutputParser()\n",
    "\n",
    "# chain = (\n",
    "#     {\"context\": retriever, \"question\": RunnablePassthrough()}\n",
    "#     | FWO_PROMPT\n",
    "#     | llm\n",
    "#     | output_parser\n",
    "# )\n",
    "\n",
    "chain = (\n",
    "{\n",
    "    \"context\": retriever,\n",
    "    \"question\": RunnablePassthrough(),\n",
    "}\n",
    "    | FWO_PROMPT\n",
    "    | llm\n",
    "    | StrOutputParser()\n",
    ")\n"
   ]
  },
  {
   "cell_type": "code",
   "execution_count": 15,
   "metadata": {
    "cell_id": "51912f3cb08b43e4b9d485e1821e52ce",
    "deepnote_cell_type": "code",
    "execution_context_id": "117fea94-7943-4067-9a2a-3e8454f791c1",
    "execution_millis": 25790,
    "execution_start": 1759758276799,
    "source_hash": "51d1e9bd"
   },
   "outputs": [
    {
     "name": "stdout",
     "output_type": "stream",
     "text": [
      "**Kampagnenkonzept (Ziel – Kernbotschaft – Mehrwert)**  \n",
      "- **Ziel:** Hohe Teilnahme‑ und Anmeldezahlen für die PubTour am 16. Oktober.  \n",
      "- **Kernbotschaft:** Die PubTour verbindet Studierende, Fachpersonen und Praxispartner in lockerer Atmosphäre – ein Muss für Netzwerk und Spaß.  \n",
      "- **Mehrwert:** Direkter Austausch, Einblicke in Unternehmen, kostenlose Fotoshoot‑Option und ein klarer Zeitplan, damit niemand etwas verpasst.\n",
      "\n",
      "**Redaktionsplan (Phase – wiederkehrende Formate – Timing)**  \n",
      "- **Phase:** „Reminder & Call‑to‑Action“ (letzte Woche vor dem Event).  \n",
      "- **Formate:** Bild‑Post + Kurztext (Instagram, LinkedIn) – Text‑Nachricht + Bild (WhatsApp).  \n",
      "- **Timing:** Veröffentlichung Dienstag, 08.10. um 10:00 Uhr; zweite Erinnerung Freitag, 12.10. um 16:00 Uhr.\n",
      "\n",
      "---\n",
      "\n",
      "## Instagram  \n",
      "\n",
      "### Vorschlag 1 – Bild‑Post (Dienstag, 08.10., 10:00 Uhr)  \n",
      "**Copy:**  \n",
      "> 🎉 **PubTour 16. Oktober – Dein Netzwerk‑Boost!**  \n",
      "> ⏰ Treffpunkt: 18:00 Uhr, Campus‑Café  \n",
      "> 📍 Start: Hauptgebäude, Eingang A  \n",
      "> 📸 Kostenloses Fotoshooting – Zeig dein bestes Lächeln!  \n",
      "> 👉 Jetzt anmelden: [Link zur Anmeldeseite]  \n",
      "> 🔄 Markiere deine Begleitung und bringe deine Fragen mit.  \n",
      "\n",
      "**Kampagnen‑Fit:** Zielgerichtete Info‑Weitergabe, klare Kernbotschaft, Mehrwert durch Fotoshooting.  \n",
      "**Redaktions‑Fit:** Reminder‑Phase, Bild‑Post, erster Veröffentlichungstermin.\n",
      "\n",
      "### Vorschlag 2 – Instagram‑Story mit Umfrage (Freitag, 12.10., 16:00 Uhr)  \n",
      "**Story‑Slide 1 (Bild vom letzten PubTour‑Abend):**  \n",
      "> „Bist du dabei? 🤔“  \n",
      "\n",
      "**Story‑Slide 2 (Umfrage‑Sticker):**  \n",
      "> **Frage:** „Welches Thema interessiert dich am meisten?“  \n",
      "> **Option A:** Unternehmens‑Insights  \n",
      "> **Option B:** Karriere‑Tipps  \n",
      "\n",
      "**Story‑Slide 3 (Call‑to‑Action):**  \n",
      "> „Swipe‑Up für die Anmeldung! 🚀“  \n",
      "\n",
      "**Kampagnen‑Fit:** Fördert Engagement, stärkt Community, erinnert an das Event.  \n",
      "**Redaktions‑Fit:** Wiederkehrendes Story‑Format, zweite Reminder‑Phase, direkter CTA.\n",
      "\n",
      "---\n",
      "\n",
      "## WhatsApp  \n",
      "\n",
      "### Vorschlag 1 – Direktnachricht (Dienstag, 08.10., 10:00 Uhr)  \n",
      "> **PubTour – 16. Oktober**  \n",
      "> 📅 18:00 Uhr, Campus‑Café (Eingang A)  \n",
      "> 📸 Kostenloses Fotoshooting vor Ort  \n",
      "> 👉 Melde dich jetzt an: [Kurz‑Link]  \n",
      "> ❓ Fragen? Schreib uns einfach zurück!  \n",
      "\n",
      "**Kampagnen‑Fit:** Schnelle, direkte Kommunikation, klare Kernbotschaft, Mehrwert (Fotoshooting).  \n",
      "**Redaktions‑Fit:** Text‑Nachricht + Bild des Instagram‑Posts, Reminder‑Phase, erster Versand.\n",
      "\n",
      "### Vorschlag 2 – Follow‑Up‑Nachricht (Freitag, 12.10., 16:00 Uhr)  \n",
      "> **Letzte Chance!**  \n",
      "> Die PubTour startet in 2 Tagen. Noch Plätze frei!  \n",
      "> 📍 Treffpunkt: 18:00 Uhr, Campus‑Café  \n",
      "> 📸 Fotoshooting + Networking mit Fachpersonen  \n",
      "> ✅ Jetzt anmelden: [Kurz‑Link]  \n",
      "\n",
      "**Kampagnen‑Fit:** Drängt zur Anmeldung, betont Mehrwert, schafft Dringlichkeit.  \n",
      "**Redaktions‑Fit:** Zweite Reminder‑Nachricht, gleiche Bild‑Material, Timing kurz vor dem Event.\n",
      "\n",
      "---\n",
      "\n",
      "## LinkedIn  \n",
      "\n",
      "### Vorschlag 1 – Beitrag (Dienstag, 08.10., 10:00 Uhr)  \n",
      "**Titel:** PubTour 16. Oktober – Netzwerk‑Event für Wirtschaftsstudierende  \n",
      "**Text:**  \n",
      "> Am 16. Oktober treffen sich Studierende, Lehrpersonen und Praxispartner zum informellen Austausch.  \n",
      "> • 18:00 Uhr, Campus‑Café (Eingang A)  \n",
      "> • Kostenloses Fotoshooting für alle Teilnehmenden  \n",
      "> • Kurzvorstellungen von Unternehmen, offene Fragerunden  \n",
      "> 👉 Jetzt anmelden und Teil der Community werden: [Link]  \n",
      "\n",
      "**Kampagnen‑Fit:** Professionelle Zielgruppenansprache, klare Kernbotschaft, Mehrwert (Netzwerk + Fotos).  \n",
      "**Redaktions‑Fit:** Bild‑Post, Reminder‑Phase, erster Veröffentlichungstermin.\n",
      "\n",
      "### Vorschlag 2 – Beitrag mit Umfrage (Freitag, 12.10., 16:00 Uhr)  \n",
      "**Titel:** Wie können wir die PubTour noch besser machen?  \n",
      "**Text:**  \n",
      "> Wir planen die nächste PubTour und wollen deine Meinung.  \n",
      "> **Umfrage:** Welches Format möchtest du beim nächsten Mal sehen?  \n",
      "> 1️⃣ Kurz‑Pitch von Unternehmen  \n",
      "> 2️⃣ Workshop‑Mini‑Sessions  \n",
      "> Stimme jetzt ab und sichere dir deinen Platz für den 16. Oktober!  \n",
      "> 👉 Anmeldung: [Link]  \n",
      "\n",
      "**Kampagnen‑Fit:** Aktiviert Community, sammelt Feedback, stärkt Engagement.  \n",
      "**Redaktions‑Fit:** Wiederkehrendes Umfrage‑Format, zweite Reminder‑Phase, CTA zur Anmeldung.\n"
     ]
    }
   ],
   "source": [
    "# from langchain_core.output_parsers import StrOutputParser\n",
    "\n",
    "# USER_PROMPT=\"Generiere mir einen Post für die PubTour am 16. Oktober\"\n",
    "\n",
    "# result = chain.invoke(\"Generiere mir einen Post für die PubTour am 16. Oktober\")\n",
    "# print(result)\n",
    "\n",
    "result = chain.invoke(\"Generiere mir einen Post für die PubTour am 16. Oktober\")\n",
    "print(result)\n",
    "\n",
    "#result = chain.invoke(user_prompt)\n",
    "#print(result)"
   ]
  },
  {
   "cell_type": "markdown",
   "metadata": {},
   "source": [
    "## UI"
   ]
  },
  {
   "cell_type": "code",
   "execution_count": 16,
   "metadata": {},
   "outputs": [
    {
     "name": "stdout",
     "output_type": "stream",
     "text": [
      "* Running on local URL:  http://127.0.0.1:7860\n",
      "\n",
      "Could not create share link. Please check your internet connection or our status page: https://status.gradio.app.\n"
     ]
    },
    {
     "data": {
      "text/html": [
       "<div><iframe src=\"http://127.0.0.1:7860/\" width=\"100%\" height=\"500\" allow=\"autoplay; camera; microphone; clipboard-read; clipboard-write;\" frameborder=\"0\" allowfullscreen></iframe></div>"
      ],
      "text/plain": [
       "<IPython.core.display.HTML object>"
      ]
     },
     "metadata": {},
     "output_type": "display_data"
    },
    {
     "data": {
      "text/plain": []
     },
     "execution_count": 16,
     "metadata": {},
     "output_type": "execute_result"
    }
   ],
   "source": [
    "import gradio as gr\n",
    "\n",
    "def answer(question: str) -> str:\n",
    "    # Kein LangSmith, einfach direkt die Chain ausführen\n",
    "    try:\n",
    "        response = chain.invoke(question)\n",
    "        return response\n",
    "    except Exception as e:\n",
    "        return f\"⚠️ Fehler bei der Verarbeitung: {e}\"\n",
    "\n",
    "# --- Gradio UI ---\n",
    "demo = gr.Interface(\n",
    "    fn=answer,\n",
    "    inputs=gr.Textbox(label=\"Question\", placeholder=\"Type your question here...\"),\n",
    "    outputs=gr.Textbox(label=\"Answer\", lines=10),\n",
    "    title=\"FWO Chatbot\",\n",
    "    description=\"Write a social media post based on the context provided.\",\n",
    ")\n",
    "\n",
    "# if __name__ == \"__main__\":\n",
    "demo.launch(share=True)"
   ]
  },
  {
   "cell_type": "markdown",
   "metadata": {
    "created_in_deepnote_cell": true,
    "deepnote_cell_type": "markdown"
   },
   "source": [
    "<a style='text-decoration:none;line-height:16px;display:flex;color:#5B5B62;padding:10px;justify-content:end;' href='https://deepnote.com?utm_source=created-in-deepnote-cell&projectId=56a0a349-7f2e-43e5-8d52-5ded467f6e9c' target=\"_blank\">\n",
    "<img alt='Created in deepnote.com' style='display:inline;max-height:16px;margin:0px;margin-right:7.5px;' src='data:image/svg+xml;base64,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' > </img>\n",
    "Created in <span style='font-weight:600;margin-left:4px;'>Deepnote</span></a>"
   ]
  }
 ],
 "metadata": {
  "deepnote_notebook_id": "b03039a6aad547a39dea08ca00c7302d",
  "kernelspec": {
   "display_name": "Python 3",
   "language": "python",
   "name": "python3"
  },
  "language_info": {
   "codemirror_mode": {
    "name": "ipython",
    "version": 3
   },
   "file_extension": ".py",
   "mimetype": "text/x-python",
   "name": "python",
   "nbconvert_exporter": "python",
   "pygments_lexer": "ipython3",
   "version": "3.13.3"
  }
 },
 "nbformat": 4,
 "nbformat_minor": 0
}
