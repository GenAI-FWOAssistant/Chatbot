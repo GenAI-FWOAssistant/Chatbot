{
 "cells": [
  {
   "cell_type": "markdown",
   "metadata": {
    "cell_id": "13645a6401094b8e9e43ee6439cebbb7",
    "deepnote_cell_type": "markdown"
   },
   "source": []
  },
  {
   "cell_type": "markdown",
   "metadata": {
    "cell_id": "2e08b85981b542379983caf1619bceab",
    "deepnote_cell_type": "markdown"
   },
   "source": [
    "### Ideen Use Case\n",
    "- Gesetzbuch ZGB\n",
    "- Kochbuch\n",
    "- LLM Agent generiert Werbetexe, Social Media Posts"
   ]
  },
  {
   "cell_type": "markdown",
   "metadata": {
    "cell_id": "71dc5b3cd80f444c85229c5a5d134243",
    "deepnote_cell_type": "text-cell-h3",
    "formattedRanges": []
   },
   "source": [
    "### FWO-Assistent"
   ]
  },
  {
   "cell_type": "markdown",
   "metadata": {
    "cell_id": "8e372a10361b49d79135bb1ac2bc94e8",
    "deepnote_cell_type": "text-cell-bullet",
    "formattedRanges": []
   },
   "source": [
    "- Hilft bei der Erstellung von Texten für LinkedIn, Instagram, WhatsApp etc."
   ]
  },
  {
   "cell_type": "markdown",
   "metadata": {
    "cell_id": "34e39c6b71ff43369582549ea792d7a4",
    "deepnote_cell_type": "text-cell-bullet",
    "formattedRanges": []
   },
   "source": [
    "- Auf Basis von vergangenen Posts"
   ]
  },
  {
   "cell_type": "code",
   "execution_count": 1,
   "metadata": {},
   "outputs": [
    {
     "name": "stderr",
     "output_type": "stream",
     "text": [
      "c:\\Users\\amuel\\AppData\\Local\\Programs\\Python\\Python313\\Lib\\site-packages\\tqdm\\auto.py:21: TqdmWarning: IProgress not found. Please update jupyter and ipywidgets. See https://ipywidgets.readthedocs.io/en/stable/user_install.html\n",
      "  from .autonotebook import tqdm as notebook_tqdm\n"
     ]
    },
    {
     "name": "stdout",
     "output_type": "stream",
     "text": [
      "Sende Test-Ping...\n",
      "Antworttyp: <class 'langchain_core.messages.ai.AIMessage'>\n",
      "Inhalt: pong\n"
     ]
    }
   ],
   "source": [
    "import os\n",
    "from langchain_openai import ChatOpenAI\n",
    "\n",
    "# --- Stelle sicher, dass dieser Key existiert ---\n",
    "assert \"GROQ_API_KEY\" in os.environ, \"GROQ_API_KEY fehlt in den Env Vars!\"\n",
    "\n",
    "# --- Initialisiere LLM explizit für OpenRouter ---\n",
    "llm = ChatOpenAI(\n",
    "    model=\"openai/gpt-oss-120b\",   # wähle ein OpenRouter-Modell, das es wirklich gibt\n",
    "    api_key=os.environ[\"GROQ_API_KEY\"],\n",
    "    base_url=\"https://api.groq.com/openai/v1\",\n",
    "    temperature=0.3,\n",
    ")\n",
    "\n",
    "print(\"Sende Test-Ping...\")\n",
    "try:\n",
    "    msg = llm.invoke(\"Sag exakt: pong\")\n",
    "    print(\"Antworttyp:\", type(msg))\n",
    "    # msg ist i.d.R. ein AIMessage – gib Inhalt sicher aus:\n",
    "    print(\"Inhalt:\", getattr(msg, \"content\", msg))\n",
    "except Exception as e:\n",
    "    print(\"FEHLER beim LLM-Aufruf:\", repr(e))\n"
   ]
  },
  {
   "cell_type": "code",
   "execution_count": 2,
   "metadata": {
    "cell_id": "48703dda10da4a189aae9e8b27d1da51",
    "deepnote_cell_type": "code",
    "execution_context_id": "117fea94-7943-4067-9a2a-3e8454f791c1",
    "execution_millis": 1312,
    "execution_start": 1759758229079,
    "source_hash": "af9e9b5a"
   },
   "outputs": [],
   "source": [
    "import os\n",
    "import langchain\n",
    "from dotenv import load_dotenv\n",
    "load_dotenv()\n",
    "\n",
    "from langchain_openai import ChatOpenAI\n",
    "\n",
    "\n",
    "#LLM_MODEL = \"openai/gpt-oss-20b:free\"\n",
    "LLM_MODEL = \"openai/gpt-oss-120b\"\n",
    "LLM_TEMPERATURE = 0.4\n",
    "BASE_URL = \"https://api.groq.com/openai/v1\"\n",
    "OPENROUTER_API_KEY = os.getenv(\"GROQ_API_KEY\")\n",
    "USER_PROMPT=\"Generiere mir einen Instagrampost\""
   ]
  },
  {
   "cell_type": "code",
   "execution_count": 3,
   "metadata": {
    "cell_id": "560a2f48c30445d0af462bee57df506a",
    "deepnote_cell_type": "code",
    "execution_context_id": "117fea94-7943-4067-9a2a-3e8454f791c1",
    "execution_millis": 2680,
    "execution_start": 1759758230441,
    "source_hash": "b9f7f98b"
   },
   "outputs": [
    {
     "name": "stdout",
     "output_type": "stream",
     "text": [
      "<class 'langchain_openai.chat_models.base.ChatOpenAI'>\n"
     ]
    }
   ],
   "source": [
    "from langchain_openai import ChatOpenAI\n",
    "from langchain_core.prompts import ChatPromptTemplate\n",
    "\n",
    "\n",
    "llm = ChatOpenAI(\n",
    "    model=LLM_MODEL,\n",
    "    temperature=LLM_TEMPERATURE,\n",
    "    base_url=BASE_URL,\n",
    "    api_key=OPENROUTER_API_KEY,\n",
    ")\n",
    "\n",
    "print(type(llm))\n"
   ]
  },
  {
   "cell_type": "code",
   "execution_count": 4,
   "metadata": {},
   "outputs": [
    {
     "name": "stdout",
     "output_type": "stream",
     "text": [
      "pong\n",
      "False None\n",
      "True\n",
      "False\n"
     ]
    }
   ],
   "source": [
    "try:\n",
    "    print(llm.invoke(\"Sag nur: pong\").content)\n",
    "except Exception as e:\n",
    "    print(repr(e))\n",
    "\n",
    "# Test 2: Env-Variablen sichtbar?\n",
    "import os\n",
    "print(\"OPENAI_API_KEY\" in os.environ, os.environ.get(\"OPENAI_BASE_URL\"))\n",
    "print(\"GROQ_API_KEY\" in os.environ)\n",
    "print(\"OPENROUTER_API_KEY\" in os.environ)"
   ]
  },
  {
   "cell_type": "code",
   "execution_count": 5,
   "metadata": {
    "cell_id": "a39ea2f0cef040f4bc860ac3c41a6a4d",
    "deepnote_cell_type": "code",
    "execution_context_id": "117fea94-7943-4067-9a2a-3e8454f791c1",
    "execution_millis": 0,
    "execution_start": 1759758233169,
    "source_hash": "90dbf177"
   },
   "outputs": [],
   "source": [
    "from langchain_core.prompts import ChatPromptTemplate\n",
    "\n",
    "FWO_PROMPT = ChatPromptTemplate.from_messages([\n",
    "    (\"system\",\n",
    "     \"Du bist der FWO-Assistent (Fachschaft Wirtschaft Olten, FHNW). \"\n",
    "     \"Bevor du schreibst, beziehst du dich IMMER auf: \"\n",
    "     \"1) Kampagnenkonzept (Ziel, Kernbotschaft, Mehrwert) \"\n",
    "     \"2) Redaktionsplan (Phase, wiederkehrende Formate, Timing). \"\n",
    "     \"Vermeide Genderung und gebrauche bspw. Lehrperson anstatt Lehrer*innen \"\n",
    "     \"Generiere jeweils immer zwei Vorschläge zu jeder Plattform (Instagram, WhatsApp, LinkedIn)\"\n",
    "     \"Vermeide Floskeln, schreibe aktiv und konkret.\"\n",
    "     \"If you are unsure or the answer isn't in the context, say that you don't know.\\n\\n\"\n",
    "     \"CONTEXT: \\n {context}\"\n",
    "    ),\n",
    "    (\"human\",\"{question}\"),\n",
    "])\n"
   ]
  },
  {
   "cell_type": "code",
   "execution_count": null,
   "metadata": {
    "cell_id": "6b201c73c9d040e9af1c979816ae55dd",
    "deepnote_cell_type": "code",
    "execution_context_id": "117fea94-7943-4067-9a2a-3e8454f791c1",
    "execution_millis": 12311,
    "execution_start": 1759758233279,
    "source_hash": "51d1e9bd"
   },
   "outputs": [
    {
     "name": "stdout",
     "output_type": "stream",
     "text": [
      "**Kampagnenkonzept**  \n",
      "- **Ziel:** Studierende und Interessierte zur PubTour am 16. Oktober motivieren und die FHNW als lebendigen Netzwerk‑ und Lernort präsentieren.  \n",
      "- **Kernbotschaft:** „Entdecke, vernetze, feiere – die PubTour ist dein Sprungbrett für Praxis, Kontakte und Spaß.“  \n",
      "- **Mehrwert:** Direkter Einblick in aktuelle Projekte, Möglichkeit zum Austausch mit Lehrpersonen und Unternehmen, lockere Atmosphäre zum Knüpfen von Kontakten.\n",
      "\n",
      "**Redaktionsplan**  \n",
      "- **Phase:** Awareness → Reminder (2 Wochen vor, 3 Tage vorher, Tag‑der‑Tour).  \n",
      "- **Wiederkehrende Formate:** Teaser‑Grafik/Video, Countdown‑Story, Kurz‑FAQ.  \n",
      "- **Timing:** Instagram – Montag 09:00 / Freitag 16:00, WhatsApp – Dienstag 12:00 / Donnerstag 18:00, LinkedIn – Mittwoch 08:30 / Freitag 14:00.  \n",
      "\n",
      "---\n",
      "\n",
      "## Instagram  \n",
      "\n",
      "### Vorschlag 1 (Teaser‑Grafik, Montag 09:00)  \n",
      "**Bild:** Foto einer belebten Pub‑Location mit FHNW‑Logo im Vordergrund.  \n",
      "**Text:**  \n",
      "> 🎉 PubTour 16. Oktober – Dein Einstieg ins Netzwerk!  \n",
      "> • Praxis‑Projekte live erleben  \n",
      "> • Direktes Gespräch mit Lehrpersonen und Unternehmen  \n",
      "> • Lockeres Beisammensein bei einem Drink  \n",
      "> Markiere deine Begleitung und sichere dir jetzt deinen Platz! #FWO #PubTour2025  \n",
      "\n",
      "### Vorschlag 2 (Countdown‑Story, Freitag 16:00)  \n",
      "**Story‑Slide 1:** „3 Tage bis zur PubTour!“ mit animiertem Countdown‑Timer.  \n",
      "**Story‑Slide 2 (Text):**  \n",
      "> Warum du dabei sein solltest:  \n",
      "> – Exklusive Einblicke in aktuelle Forschungsprojekte  \n",
      "> – Netzwerk‑Boost für dein Praktikum  \n",
      "> – Spaßige Atmosphäre, kein formeller Vortrag  \n",
      "> Swipe‑Up für die Anmeldung!  \n",
      "\n",
      "---\n",
      "\n",
      "## WhatsApp  \n",
      "\n",
      "### Vorschlag 1 (Dienstag 12:00 – Kurz‑Reminder)  \n",
      "> 📢 **PubTour – 16. Oktober**  \n",
      "> Treffpunkt: Campus‑Bar, 18 Uhr.  \n",
      "> Was dich erwartet: Projekt‑Showcases, Gespräche mit Lehrpersonen, lockeres Networking.  \n",
      "> Antworte mit **JA**, wenn du dabei bist – Plätze sind begrenzt!  \n",
      "\n",
      "### Vorschlag 2 (Donnerstag 18:00 – Letzter Aufruf)  \n",
      "> ⏰ **Letzte Chance!**  \n",
      "> Heute um 18 Uhr startet die PubTour.  \n",
      "> Nutze die Gelegenheit, Praxis‑Insights zu sammeln und neue Kontakte zu knüpfen.  \n",
      "> Noch nicht angemeldet? Schreib **JETZT** und wir reservieren dir einen Spot.  \n",
      "\n",
      "---\n",
      "\n",
      "## LinkedIn  \n",
      "\n",
      "### Vorschlag 1 (Mittwoch 08:30 – Fachlicher Teaser)  \n",
      "**Titel:** PubTour 16. Oktober – Praxis trifft Netzwerk  \n",
      "**Beitrag:**  \n",
      "> Am 16. Oktober öffnen wir die Türen unserer Campus‑Bar für die PubTour. Studierende erhalten Einblicke in aktuelle Forschungs‑ und Entwicklungsprojekte, können direkt mit Lehrpersonen und Unternehmenspartnern diskutieren und ihr berufliches Netzwerk erweitern.  \n",
      "> 👉 Jetzt anmelden und Teil des interdisziplinären Austauschs werden: [Link zur Anmeldung]  \n",
      "> #FWO #PubTour #Netzwerken #Praxis  \n",
      "\n",
      "### Vorschlag 2 (Freitag 14:00 – Reminder mit FAQ)  \n",
      "**Titel:** Noch Fragen zur PubTour?  \n",
      "**Beitrag:**  \n",
      "> • **Wer?** Alle FHNW‑Studierende und Interessierte.  \n",
      "> • **Was?** Projekt‑Präsentationen, Gespräche mit Lehrpersonen, lockeres Beisammensein.  \n",
      "> • **Wo?** Campus‑Bar, 18 Uhr, 16. Oktober.  \n",
      "> • **Warum?** Praxis‑Insights, neue Kontakte, entspannte Atmosphäre.  \n",
      "> Melde dich jetzt an und sichere dir deinen Platz: [Link]  \n",
      "> #FWO #PubTour2025 #Karriere  \n",
      "\n",
      "---  \n",
      "\n",
      "Jeder Beitrag folgt dem definierten Kampagnenkonzept und ist exakt auf die jeweilige Plattform und das geplante Timing abgestimmt. Viel Erfolg beim Bewerben der PubTour!\n"
     ]
    }
   ],
   "source": [
    "# from langchain_core.output_parsers import StrOutputParser\n",
    "\n",
    "# user_prompt = \"Generiere mir einen Post für die PubTour am 16. Oktober\"\n",
    "\n",
    "# chain_simple = (FWO_PROMPT | llm | StrOutputParser())\n",
    "# result = chain_simple.invoke({\"question\": user_prompt, \"context\": \"\"})\n",
    "# print(result)\n",
    "# print(result)"
   ]
  },
  {
   "cell_type": "code",
   "execution_count": null,
   "metadata": {},
   "outputs": [],
   "source": []
  },
  {
   "cell_type": "code",
   "execution_count": 7,
   "metadata": {
    "cell_id": "2f723a65eeb04432a1ba77dcfe049109",
    "deepnote_cell_type": "code",
    "execution_context_id": "117fea94-7943-4067-9a2a-3e8454f791c1",
    "execution_millis": 483,
    "execution_start": 1759758245649,
    "source_hash": "3195d87f"
   },
   "outputs": [],
   "source": [
    "from langchain_community.document_loaders import PyPDFLoader\n",
    "\n",
    "# List of PDF file paths\n",
    "\n",
    "pdf_path = \"Order pdf/SoMe Konzept.pdf\"\n",
    "\n",
    "loader = PyPDFLoader(str(pdf_path))\n",
    "pages = loader.load()\n",
    "\n",
    "\n",
    "# Load all documents\n",
    "# all_pages_pdf = []\n",
    "# for pdf in pdf_files:\n",
    "#     loader = PyPDFLoader(pdf)\n",
    "#     pages = loader.load()\n",
    "#     all_pages_pdf.extend(pages)\n",
    "\n",
    "#print(f\"Loaded {len(all_pages_pdf)} pages from {len(pdf_files)} pdf documents.\")\n"
   ]
  },
  {
   "cell_type": "code",
   "execution_count": 8,
   "metadata": {
    "cell_id": "a4a0f6c0e3844ca2a7e68192889aadf3",
    "deepnote_cell_type": "code",
    "execution_context_id": "117fea94-7943-4067-9a2a-3e8454f791c1",
    "execution_millis": 0,
    "execution_start": 1759758246179,
    "source_hash": "600011ae"
   },
   "outputs": [],
   "source": [
    "from langchain_text_splitters import RecursiveCharacterTextSplitter\n",
    "\n",
    "# get both websites and pdfs together\n",
    "all_docs = pages\n",
    "\n",
    "# define the splitter and strategy\n",
    "splitter = RecursiveCharacterTextSplitter(chunk_size=300, chunk_overlap=100)\n",
    "splits = splitter.split_documents(all_docs)"
   ]
  },
  {
   "cell_type": "code",
   "execution_count": 9,
   "metadata": {
    "cell_id": "c2e805c3427c4dcda39006a9105b2777",
    "deepnote_cell_type": "code",
    "execution_context_id": "117fea94-7943-4067-9a2a-3e8454f791c1",
    "execution_millis": 0,
    "execution_start": 1759758246229,
    "source_hash": "b0d5d671"
   },
   "outputs": [
    {
     "name": "stdout",
     "output_type": "stream",
     "text": [
      "Initial documents: 6\n",
      "Total chunks: 55\n",
      "Avg length: 253.0\n",
      "Min: 48, Max: 297\n"
     ]
    }
   ],
   "source": [
    "import numpy as np\n",
    "\n",
    "lengths = [len(s.page_content) for s in splits]\n",
    "print(f\"Initial documents: {len(all_docs)}\")\n",
    "print(f\"Total chunks: {len(splits)}\")\n",
    "print(f\"Avg length: {np.mean(lengths):.1f}\")\n",
    "print(f\"Min: {np.min(lengths)}, Max: {np.max(lengths)}\")"
   ]
  },
  {
   "cell_type": "code",
   "execution_count": 10,
   "metadata": {
    "cell_id": "92e542040e284e96b3a342fcf5c63bc2",
    "deepnote_cell_type": "code",
    "execution_context_id": "117fea94-7943-4067-9a2a-3e8454f791c1",
    "execution_millis": 18668,
    "execution_start": 1759758246289,
    "source_hash": "cc8d3bbc"
   },
   "outputs": [
    {
     "name": "stderr",
     "output_type": "stream",
     "text": [
      "C:\\Users\\amuel\\AppData\\Local\\Temp\\ipykernel_26292\\4293025327.py:4: LangChainDeprecationWarning: The class `HuggingFaceEmbeddings` was deprecated in LangChain 0.2.2 and will be removed in 1.0. An updated version of the class exists in the :class:`~langchain-huggingface package and should be used instead. To use it run `pip install -U :class:`~langchain-huggingface` and import as `from :class:`~langchain_huggingface import HuggingFaceEmbeddings``.\n",
      "  embeddings = HuggingFaceEmbeddings(model_name=\"sentence-transformers/all-mpnet-base-v2\")\n"
     ]
    }
   ],
   "source": [
    "from langchain_community.embeddings import HuggingFaceEmbeddings\n",
    "from sentence_transformers import SentenceTransformer\n",
    "\n",
    "embeddings = HuggingFaceEmbeddings(model_name=\"sentence-transformers/all-mpnet-base-v2\")\n"
   ]
  },
  {
   "cell_type": "code",
   "execution_count": 11,
   "metadata": {
    "cell_id": "276a8ec04dfa486a8eb26443f9c1b7f0",
    "deepnote_cell_type": "code",
    "execution_context_id": "117fea94-7943-4067-9a2a-3e8454f791c1",
    "execution_millis": 11559,
    "execution_start": 1759758265010,
    "source_hash": "65dc8a79"
   },
   "outputs": [
    {
     "data": {
      "text/plain": [
       "['0ec7a176-a859-440f-9aea-512c66d0c330',\n",
       " '482ee17f-3b27-4af4-9572-c0c6c904bb28',\n",
       " '6bde600b-589b-4cf2-814e-9bf0a2f1798e',\n",
       " 'deeea46f-9cc2-4490-8110-29cc924fc92c',\n",
       " '7dc1ba28-eee3-4689-8895-7fe756db4e3f',\n",
       " 'c9decb82-0985-4721-81a2-821808f76e60',\n",
       " 'b9407149-31ac-495f-83d1-ddc514feb0d2',\n",
       " '968e163d-0e13-4620-b62d-75a81cc6b9c1',\n",
       " 'd4efc9da-60df-4d4e-8b2e-cec5ebdd1fc0',\n",
       " '99dbc341-fbbf-4edb-ad62-f3582631b7d3',\n",
       " '5fbeb404-3d6d-4645-8db9-a85577a6b370',\n",
       " '28604f02-79f6-4d9b-b205-d84e5cd51e50',\n",
       " 'afd49e8b-1a90-41fb-a324-bb2643ea5161',\n",
       " '7e16ee91-33fb-4fd9-854d-30b6d065ae1a',\n",
       " '7b3cd5cc-3725-4474-9ce6-ee98f0583b71',\n",
       " '183a3be6-4d4d-4260-93ba-f829560bd1c2',\n",
       " '36e4ecd6-9fb3-43ad-b49f-065729b9f12f',\n",
       " 'cfd2e891-c272-4e4e-ae7a-48b7c8525b96',\n",
       " '280e8ec0-01db-4e77-b5d8-4dea9f65dcd0',\n",
       " '442d71a3-64fc-4041-9b53-63766aa168f2',\n",
       " 'e3067aa3-5088-4c9b-a030-bbf0c57fa19f',\n",
       " '1b91d4c7-307d-4090-a35f-b61a8eacb99e',\n",
       " '080e9581-3201-4f74-a6be-5030f01ed2ed',\n",
       " '82f81bd6-c092-42eb-a0ce-d9746a84c9b0',\n",
       " '4a1b2a97-ef2a-4872-b73a-73cf9760aaaa',\n",
       " 'f21c2317-768e-4216-8441-edf5e9790c5b',\n",
       " '52ddfe3a-79b3-469d-aaa3-d68534eddaa6',\n",
       " '40d9938b-ecca-4ba3-b264-745b81dad86f',\n",
       " '3c04ade8-dad0-4c1c-834b-29499178e03c',\n",
       " 'd770cb34-49f2-4e50-ad7b-1096b6be166a',\n",
       " '4545ec97-11df-4899-a181-e6b499778abe',\n",
       " '24d53fa1-2f38-43c1-acc4-4fa3d6e271a3',\n",
       " '6b6a493d-69e2-4366-ab21-b2bfa9181085',\n",
       " 'b8dacc18-82bc-4bf9-ac62-d5dac0744b11',\n",
       " '48061596-2921-479b-bc56-67b3530332c4',\n",
       " 'e6b011e3-078e-4a4d-a665-4249a401c287',\n",
       " '227fc7cc-8680-4ee9-943e-79cbe4cf511c',\n",
       " 'db164975-48a3-4d38-a3cf-ee1b53cb437f',\n",
       " '9e82dcce-a8d9-419b-8e49-7c46cf0cdcef',\n",
       " '1caff525-5666-4273-85e0-0aee358a9c23',\n",
       " '1cd13de0-4624-4836-854d-ba3063532bb7',\n",
       " '93999d0e-eb03-45a3-867e-825b973e1a27',\n",
       " '669fdda6-8655-424d-a54b-bb6ef054ef6b',\n",
       " 'e0bb3fcc-4b60-4042-b29a-03a425f5ddc3',\n",
       " '29153efd-5beb-4afd-84ab-44e735617454',\n",
       " '9cf197f0-8967-4dac-900e-7d86d70c3213',\n",
       " 'd2c15082-94b7-4d28-988b-3b57748cf479',\n",
       " 'a741acf5-1680-4095-8fcb-0971b304930f',\n",
       " 'b675bcf1-42ac-4a14-8a49-607125e4e485',\n",
       " 'fd35fa84-a6c6-495f-ad88-ccadce9caff5',\n",
       " '0f1403b7-45f8-4649-ac88-31fae5aeea4e',\n",
       " '9d8264d2-1f52-4bb6-8486-1207329bdc03',\n",
       " '26fe38b4-1c90-4aff-b5ba-20f4cd896498',\n",
       " 'b0d2de66-0fe6-4900-9dc6-00a4a4f1a9aa',\n",
       " '8bf8416f-0b3b-4b69-818f-6ca89295f658']"
      ]
     },
     "execution_count": 11,
     "metadata": {},
     "output_type": "execute_result"
    }
   ],
   "source": [
    "import faiss\n",
    "from langchain_community.docstore.in_memory import InMemoryDocstore\n",
    "from langchain_community.vectorstores import FAISS\n",
    "\n",
    "embedding_dim = len(embeddings.embed_query(\"hello world\"))\n",
    "index = faiss.IndexFlatL2(embedding_dim)\n",
    "\n",
    "vector_store = FAISS(\n",
    "    embedding_function=embeddings,\n",
    "    index=index,\n",
    "    docstore=InMemoryDocstore(),\n",
    "    index_to_docstore_id={},\n",
    "    normalize_L2=True\n",
    ")\n",
    "\n",
    "vector_store.add_documents(documents=splits)"
   ]
  },
  {
   "cell_type": "code",
   "execution_count": 12,
   "metadata": {
    "cell_id": "39c71595501b4099b86a137eecf48618",
    "deepnote_cell_type": "code",
    "execution_context_id": "117fea94-7943-4067-9a2a-3e8454f791c1",
    "execution_millis": 0,
    "execution_start": 1759758276629,
    "source_hash": "2ca0bc3c"
   },
   "outputs": [],
   "source": [
    "retriever = vector_store.as_retriever(search_type=\"similarity\", search_kwargs={\"k\": 3})"
   ]
  },
  {
   "cell_type": "code",
   "execution_count": 13,
   "metadata": {
    "cell_id": "dca3c25d995f4dcaa99e9e38d24247c9",
    "deepnote_cell_type": "code",
    "execution_context_id": "117fea94-7943-4067-9a2a-3e8454f791c1",
    "execution_millis": 1,
    "execution_start": 1759758276689,
    "source_hash": "aa4529ad"
   },
   "outputs": [
    {
     "name": "stdout",
     "output_type": "stream",
     "text": [
      "--- Retrieved doc 1 ---\n",
      "- Grund: Account aktiv halten vor allem in Zeiten, bei denen weniger Posts gemacht \n",
      "werden können. \n",
      "Hashtags: \n",
      "#FHNW #FWO #FachschaftWirtschaftOlten #HappyEaster #HappyChristmas #HappyXmas und \n",
      "Spezifische Hashtags die von Partnern vorgegeben werden. \n",
      "Standard Seeding: ...\n",
      "\n",
      "--- Retrieved doc 2 ---\n",
      "Hashtags: Keine Hashtags \n",
      "Seeding: kein Seeding. ...\n",
      "\n",
      "--- Retrieved doc 3 ---\n",
      "Die meisten Jugendlichen/jungen Erwachsene sind auf Instagram aktiv. Das Posten von Events \n",
      "auf diesem Kanal ermöglicht der FWO ein gutes und interessantes Image für die FHNW in Olten \n",
      "zu erschaffen und somit zukünftige Studierende zu „überzeugen“ an der FH in Olten studieren zu ...\n",
      "\n"
     ]
    },
    {
     "name": "stderr",
     "output_type": "stream",
     "text": [
      "C:\\Users\\amuel\\AppData\\Local\\Temp\\ipykernel_26292\\3188004710.py:1: LangChainDeprecationWarning: The method `BaseRetriever.get_relevant_documents` was deprecated in langchain-core 0.1.46 and will be removed in 1.0. Use :meth:`~invoke` instead.\n",
      "  docs = retriever.get_relevant_documents(\"Hashtags für Instagram\")\n"
     ]
    }
   ],
   "source": [
    "docs = retriever.get_relevant_documents(\"Hashtags für Instagram\")\n",
    "for i, d in enumerate(docs, 1):\n",
    "    print(f\"--- Retrieved doc {i} ---\")\n",
    "    print(d.page_content[:400], \"...\\n\")"
   ]
  },
  {
   "cell_type": "code",
   "execution_count": 14,
   "metadata": {
    "cell_id": "7628494db79b4133966fb98d4c707ab8",
    "deepnote_cell_type": "code"
   },
   "outputs": [],
   "source": [
    "from langchain_core.runnables import RunnablePassthrough\n",
    "from langchain_core.output_parsers import StrOutputParser\n",
    "output_parser = StrOutputParser()\n",
    "\n",
    "# chain = (\n",
    "#     {\"context\": retriever, \"question\": RunnablePassthrough()}\n",
    "#     | FWO_PROMPT\n",
    "#     | llm\n",
    "#     | output_parser\n",
    "# )\n",
    "\n",
    "chain = (\n",
    "{\n",
    "    \"context\": retriever,\n",
    "    \"question\": RunnablePassthrough(),\n",
    "}\n",
    "    | FWO_PROMPT\n",
    "    | llm\n",
    "    | StrOutputParser()\n",
    ")\n"
   ]
  },
  {
   "cell_type": "code",
   "execution_count": 15,
   "metadata": {
    "cell_id": "51912f3cb08b43e4b9d485e1821e52ce",
    "deepnote_cell_type": "code",
    "execution_context_id": "117fea94-7943-4067-9a2a-3e8454f791c1",
    "execution_millis": 25790,
    "execution_start": 1759758276799,
    "source_hash": "51d1e9bd"
   },
   "outputs": [
    {
     "name": "stdout",
     "output_type": "stream",
     "text": [
      "**Kampagnenkonzept (PubTour 2025)**  \n",
      "- **Ziel:** Schnelle, direkte Kommunikation der Event‑Infos und Steigerung der Teilnahme.  \n",
      "- **Kernbotschaft:** „Gemeinsam lernen, netzwerken und feiern – die PubTour am 16. Oktober.“  \n",
      "- **Mehrwert:** Praxisnahes Networking, Einblicke in FHNW‑Projekte, lockere Atmosphäre zum Austausch mit Lehrpersonen und Studierenden.\n",
      "\n",
      "**Redaktionsplan**  \n",
      "- **Phase:** Reminder‑Phase (3 Tage vor dem Event).  \n",
      "- **Wiederkehrende Formate:** Bild‑Post + Kurzinfo (Insta), Text‑Nachricht + Bild (WhatsApp), Bild‑Post + Kurztext (LinkedIn).  \n",
      "- **Timing:** Veröffentlichung am 13. Oktober, 10 Uhr (optimaler Reichweiten‑Zeitpunkt).  \n",
      "\n",
      "---\n",
      "\n",
      "## Instagram  \n",
      "\n",
      "### Vorschlag 1 – Bild‑Post (Carousel)  \n",
      "**Kampagnen‑ und Redaktions‑Bezug**  \n",
      "- Ziel‑Reminder, Kernbotschaft „Gemeinsam feiern“, Mehrwert „Netzwerk‑Boost“.  \n",
      "- Phase = Reminder, Format = Carousel mit Bild + Infos, Timing = 13. Okt., 10 Uhr.  \n",
      "\n",
      "**Post‑Text**  \n",
      "> 📍 Treffpunkt: FHNW‑Campus Olten, Hauptgebäude, Eingang A  \n",
      "> 🕖 Uhrzeit: 18:30 – 20:30  \n",
      "> 🎉 Was dich erwartet: Kurzvorstellung von drei Projekten, Live‑Quiz, Fotobox & Drinks.  \n",
      "> 👉 Melde dich jetzt an: linktr.ee/fwo_pubtour  \n",
      "> 🔔 Markiere deine Begleitung und zeig, wer dabei ist!  \n",
      "\n",
      "**Hashtags**  \n",
      "#PubTourFHNW #Networking #StudentLife #Olten  \n",
      "\n",
      "---\n",
      "\n",
      "### Vorschlag 2 – Instagram Story mit Umfrage  \n",
      "**Kampagnen‑ und Redaktions‑Bezug**  \n",
      "- Ziel = Engagement‑Steigerung, Kernbotschaft = „Deine Meinung zählt“, Mehrwert = Tipps für die Vorbereitung.  \n",
      "- Phase = Reminder, Format = Story‑Umfrage, Timing = 13. Okt., 18 Uhr (nach Schulschluss).  \n",
      "\n",
      "**Story‑Sequenz**  \n",
      "1️⃣ Bild : „PubTour am 16. Okt. – Bist du dabei?“ (Sticker = Ja/Nein)  \n",
      "2️⃣ Bild : „Welches Thema interessiert dich am meisten?“ (Optionen = Projekt‑Pitch | Quiz | Fotobox)  \n",
      "3️⃣ Bild : „Letzter Spot – jetzt anmelden!“ (Link‑Sticker → Anmeldeseite)  \n",
      "\n",
      "---\n",
      "\n",
      "## WhatsApp  \n",
      "\n",
      "### Vorschlag 1 – Direktnachricht mit Bild  \n",
      "**Kampagnen‑ und Redaktions‑Bezug**  \n",
      "- Ziel = Schnelle Info‑Verbreitung, Kernbotschaft = „Save the date“, Mehrwert = Kompletter Ablauf.  \n",
      "- Phase = Reminder, Format = Text + Bild, Timing = 13. Okt., 09 Uhr (vor Arbeitsbeginn).  \n",
      "\n",
      "**Nachricht**  \n",
      "> **PubTour – 16. Oktober**  \n",
      "> 📅 18:30 Treffpunkt: FHNW‑Campus Olten, Eingang A  \n",
      "> 📋 Programm: Projekt‑Pitch → Quiz → Fotobox → Drinks  \n",
      "> ✅ Jetzt anmelden: https://linktr.ee/fwo_pubtour  \n",
      "> 📸 Sieh dir das Bild an – dein Spot wartet!  \n",
      "\n",
      "*(Bild: Canva‑Template mit Event‑Grafik, Uhrzeit & Treffpunkt)*  \n",
      "\n",
      "---\n",
      "\n",
      "### Vorschlag 2 – Erinnerung via Broadcast‑Liste  \n",
      "**Kampagnen‑ und Redaktions‑Bezug**  \n",
      "- Ziel = Letzte Erinnerung, Kernbotschaft = „Nur noch 2 Tage“, Mehrwert = Kurzinfo & Anmeldelink.  \n",
      "- Phase = Reminder, Format = Kurz‑Text, Timing = 13. Okt., 16 Uhr (nach Vorlesungsende).  \n",
      "\n",
      "**Nachricht**  \n",
      "> 🎉 PubTour in 2 Tagen!  \n",
      "> ⏰ 18:30, 16. Okt., FHNW‑Campus Olten (Eingang A)  \n",
      "> 📲 Jetzt noch anmelden: https://linktr.ee/fwo_pubtour  \n",
      "> 📷 Foto‑Spot & Quiz warten – wir freuen uns auf dich!  \n",
      "\n",
      "---\n",
      "\n",
      "## LinkedIn  \n",
      "\n",
      "### Vorschlag 1 – Bild‑Post (Corporate‑Ton)  \n",
      "**Kampagnen‑ und Redaktions‑Bezug**  \n",
      "- Ziel = Professionelle Reichweite, Kernbotschaft = „Netzwerk‑Event für Studierende & Lehrpersonen“, Mehrwert = Karriere‑Insights.  \n",
      "- Phase = Reminder, Format = Bild‑Post + Kurztext, Timing = 13. Okt., 10 Uhr.  \n",
      "\n",
      "**Post‑Text**  \n",
      "> **PubTour – 16. Oktober, 18:30 Uhr**  \n",
      "> Treffpunkt: FHNW‑Campus Olten, Eingang A  \n",
      "> Wir präsentieren drei aktuelle FHNW‑Projekte, ein interaktives Quiz und eine Fotobox zum Netzwerken.  \n",
      "> 👉 Melde dich jetzt an: https://linktr.ee/fwo_pubtour  \n",
      "> #PubTour #FHNW #Networking #Studentenleben  \n",
      "\n",
      "---\n",
      "\n",
      "### Vorschlag 2 – Artikel‑Teaser (LinkedIn Post)  \n",
      "**Kampagnen‑ und Redaktions‑Bezug**  \n",
      "- Ziel = Tiefe Information, Kernbotschaft = „Warum du die PubTour nicht verpassen solltest“, Mehrwert = Einblick in Projekt‑Highlights.  \n",
      "- Phase = Reminder, Format = Kurz‑Artikel‑Link + Bild, Timing = 13. Okt., 14 Uhr.  \n",
      "\n",
      "**Post‑Text**  \n",
      "> **Entdecke FHNW‑Innovation bei der PubTour**  \n",
      "> Am 16. Oktober öffnen wir unsere Türen für ein lockeres Networking‑Event. Drei Projekt‑Pitchs, ein Quiz und eine Fotobox – alles in einer Stunde.  \n",
      "> 📖 Mehr zum Ablauf und den Highlights: [Link zum internen Blog]  \n",
      "> 📅 Jetzt anmelden: https://linktr.ee/fwo_pubtour  \n",
      "> #Innovation #FHNW #PubTour  \n",
      "\n",
      "---  \n",
      "\n",
      "Jeder Vorschlag verbindet das **Kampagnenkonzept** (Ziel, Kernbotschaft, Mehrwert) mit dem **Redaktionsplan** (Phase, Format, Timing) und liefert sofort einsetzbare Inhalte für Instagram, WhatsApp und LinkedIn.\n"
     ]
    }
   ],
   "source": [
    "# from langchain_core.output_parsers import StrOutputParser\n",
    "\n",
    "# USER_PROMPT=\"Generiere mir einen Post für die PubTour am 16. Oktober\"\n",
    "\n",
    "# result = chain.invoke(\"Generiere mir einen Post für die PubTour am 16. Oktober\")\n",
    "# print(result)\n",
    "\n",
    "result = chain.invoke(\"Generiere mir einen Post für die PubTour am 16. Oktober\")\n",
    "print(result)\n",
    "\n",
    "#result = chain.invoke(user_prompt)\n",
    "#print(result)"
   ]
  },
  {
   "cell_type": "markdown",
   "metadata": {
    "created_in_deepnote_cell": true,
    "deepnote_cell_type": "markdown"
   },
   "source": [
    "<a style='text-decoration:none;line-height:16px;display:flex;color:#5B5B62;padding:10px;justify-content:end;' href='https://deepnote.com?utm_source=created-in-deepnote-cell&projectId=56a0a349-7f2e-43e5-8d52-5ded467f6e9c' target=\"_blank\">\n",
    "<img alt='Created in deepnote.com' style='display:inline;max-height:16px;margin:0px;margin-right:7.5px;' src='data:image/svg+xml;base64,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' > </img>\n",
    "Created in <span style='font-weight:600;margin-left:4px;'>Deepnote</span></a>"
   ]
  }
 ],
 "metadata": {
  "deepnote_notebook_id": "b03039a6aad547a39dea08ca00c7302d",
  "kernelspec": {
   "display_name": "Python 3",
   "language": "python",
   "name": "python3"
  },
  "language_info": {
   "codemirror_mode": {
    "name": "ipython",
    "version": 3
   },
   "file_extension": ".py",
   "mimetype": "text/x-python",
   "name": "python",
   "nbconvert_exporter": "python",
   "pygments_lexer": "ipython3",
   "version": "3.13.3"
  }
 },
 "nbformat": 4,
 "nbformat_minor": 0
}
